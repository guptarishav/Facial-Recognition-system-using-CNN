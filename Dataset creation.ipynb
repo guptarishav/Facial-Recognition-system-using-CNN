{
 "cells": [
  {
   "cell_type": "code",
   "execution_count": 6,
   "metadata": {},
   "outputs": [],
   "source": [
    "import numpy as np\n",
    "import cv2\n",
    "import os\n",
    "from pathlib import Path"
   ]
  },
  {
   "cell_type": "code",
   "execution_count": 7,
   "metadata": {},
   "outputs": [],
   "source": [
    "faceCascade=cv2.CascadeClassifier('haarcascade_frontalface_default.xml')"
   ]
  },
  {
   "cell_type": "code",
   "execution_count": 8,
   "metadata": {},
   "outputs": [],
   "source": [
    "def saveImage(image, userName, userId, imgId):\n",
    "    # Create a folder with the name as userName\n",
    "    Path(\"dataset/{}\".format(userName)).mkdir(parents=True, exist_ok=True)\n",
    "    # Save the images inside the previously created folder\n",
    "    cv2.imwrite(\"dataset/{}/{}_{}.jpg\".format(userName, userId, imgId), image)\n",
    "    "
   ]
  },
  {
   "cell_type": "code",
   "execution_count": 12,
   "metadata": {},
   "outputs": [
    {
     "name": "stdout",
     "output_type": "stream",
     "text": [
      "Enter the user id : 1\n",
      "Enter the name : simran\n",
      "\n",
      " [INFO] Initializing face capture. Look the camera and wait ...\n",
      ".......processing face please wait..........\n"
     ]
    }
   ],
   "source": [
    "cap = cv2.VideoCapture(0)\n",
    "cap.set(4,480) # set Width\n",
    "cap.set(4,480) # set Height\n",
    "userId = input(\"Enter the user id : \")\n",
    "userName = input(\"Enter the name : \")\n",
    "print(\"\\n [INFO] Initializing face capture. Look the camera and wait ...\")\n",
    "count=1\n",
    "while True:\n",
    "    ret, img = cap.read()\n",
    "    original_img = img.copy()\n",
    "    gray = cv2.cvtColor(img, cv2.COLOR_BGR2GRAY)\n",
    "    faces = faceCascade.detectMultiScale(\n",
    "        gray,     \n",
    "        scaleFactor=1.2,\n",
    "        minNeighbors=5,     \n",
    "        minSize=(50, 50)\n",
    "    )\n",
    "    for (x,y,w,h) in faces:\n",
    "        cv2.rectangle(img,(x,y),(x+w,y+h),(255,0,0),2)\n",
    "        count += 1\n",
    "        # Save the captured image into the datasets folder\n",
    "        saveImage(img[y:y+h,x:x+w], userName, userId, count)\n",
    "        #cv2.imwrite(face_id+ str(count) + \".jpg\", gray[y:y+h,x:x+w])\n",
    "        cv2.imshow('image', img)  \n",
    "    k = cv2.waitKey(30) & 0xff\n",
    "    if k == 27: # press 'ESC' to quit\n",
    "        break\n",
    "    elif count>=1000:\n",
    "        break\n",
    "print(\".......processing face please wait..........\")\n",
    "cap.release()\n",
    "cv2.destroyAllWindows()"
   ]
  },
  {
   "cell_type": "code",
   "execution_count": null,
   "metadata": {},
   "outputs": [],
   "source": []
  },
  {
   "cell_type": "code",
   "execution_count": null,
   "metadata": {},
   "outputs": [],
   "source": []
  }
 ],
 "metadata": {
  "kernelspec": {
   "display_name": "Python 3",
   "language": "python",
   "name": "python3"
  },
  "language_info": {
   "codemirror_mode": {
    "name": "ipython",
    "version": 3
   },
   "file_extension": ".py",
   "mimetype": "text/x-python",
   "name": "python",
   "nbconvert_exporter": "python",
   "pygments_lexer": "ipython3",
   "version": "3.8.3"
  }
 },
 "nbformat": 4,
 "nbformat_minor": 4
}
